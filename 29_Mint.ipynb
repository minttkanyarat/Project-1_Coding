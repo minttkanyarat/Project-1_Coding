{
  "nbformat": 4,
  "nbformat_minor": 0,
  "metadata": {
    "colab": {
      "provenance": [],
      "authorship_tag": "ABX9TyP3LhY7IjqECkxXxzmwnVW2",
      "include_colab_link": true
    },
    "kernelspec": {
      "name": "python3",
      "display_name": "Python 3"
    },
    "language_info": {
      "name": "python"
    }
  },
  "cells": [
    {
      "cell_type": "markdown",
      "metadata": {
        "id": "view-in-github",
        "colab_type": "text"
      },
      "source": [
        "<a href=\"https://colab.research.google.com/github/minttkanyarat/Project-1_Coding/blob/main/29_Mint.ipynb\" target=\"_parent\"><img src=\"https://colab.research.google.com/assets/colab-badge.svg\" alt=\"Open In Colab\"/></a>"
      ]
    },
    {
      "cell_type": "markdown",
      "source": [
        "เลขที่ 29  มิ้นท์ กัญญารัตน์ จันทร์แดง\n",
        "No.29 Mint Kanyarat Chandang:"
      ],
      "metadata": {
        "id": "Qw2u6IU8cUWO"
      }
    },
    {
      "cell_type": "markdown",
      "source": [],
      "metadata": {
        "id": "USh6mxFxCPHX"
      }
    },
    {
      "cell_type": "code",
      "source": [
        "print('Hello i am mint nice to meet you')"
      ],
      "metadata": {
        "colab": {
          "base_uri": "https://localhost:8080/"
        },
        "id": "gzcEHXGbCPw3",
        "outputId": "de3524f0-ba15-4d50-9ae6-54353f2678cb"
      },
      "execution_count": null,
      "outputs": [
        {
          "output_type": "stream",
          "name": "stdout",
          "text": [
            "Hello i am mint nice to meet you\n"
          ]
        }
      ]
    },
    {
      "cell_type": "code",
      "source": [
        "a = 5\n",
        "print(\"ฉันได้กำไร \", a, \" %\")"
      ],
      "metadata": {
        "colab": {
          "base_uri": "https://localhost:8080/"
        },
        "id": "C9Ji3W-zFm1f",
        "outputId": "8949cf00-54ab-4638-8a1b-ca118dee803c"
      },
      "execution_count": null,
      "outputs": [
        {
          "output_type": "stream",
          "name": "stdout",
          "text": [
            "ฉันได้กำไร  5  %\n"
          ]
        }
      ]
    },
    {
      "cell_type": "markdown",
      "source": [
        "29 May 2024\n",
        "วันนี้ได้เรียนรู้ในเรื่องตัวแปรค่ะ ว่าสามารถใช้ได้ หรือ ไม่ได้ เช่น no9 ไม่สามารถใช้ได้ เนื่องจากไม่สามารถเป็นตัวเลขได้  \n",
        "และอีก1เรื่องคือตัวแปรจะต้องเป็นภาษาอังกฤษ และจะต้องใช้ในการเก็บค่าได้ค่ะ"
      ],
      "metadata": {
        "id": "Ww_RafcXZUo7"
      }
    },
    {
      "cell_type": "code",
      "source": [
        "a = 2\n",
        "b = 1.5\n",
        "c =\"Mint\"\n",
        "\n",
        "type(a)\n",
        "\n",
        "print(\"ตัวแปรที่ฉันคิด คือ \")"
      ],
      "metadata": {
        "colab": {
          "base_uri": "https://localhost:8080/"
        },
        "id": "2kUr3u2IY1FV",
        "outputId": "de4cd6d7-c3cb-47fc-b35d-8757806f383f"
      },
      "execution_count": null,
      "outputs": [
        {
          "output_type": "stream",
          "name": "stdout",
          "text": [
            "ตัวแปรที่ฉันคิด คือ \n"
          ]
        }
      ]
    },
    {
      "cell_type": "code",
      "source": [
        "numeric1 = 5\n",
        "print(numeric1)\n",
        "type(numeric1)"
      ],
      "metadata": {
        "colab": {
          "base_uri": "https://localhost:8080/"
        },
        "id": "RgAzW-kbknT0",
        "outputId": "71a0a39a-9914-41a0-e1f2-79bfa054425c"
      },
      "execution_count": null,
      "outputs": [
        {
          "output_type": "stream",
          "name": "stdout",
          "text": [
            "5\n"
          ]
        },
        {
          "output_type": "execute_result",
          "data": {
            "text/plain": [
              "int"
            ]
          },
          "metadata": {},
          "execution_count": 8
        }
      ]
    },
    {
      "cell_type": "markdown",
      "source": [
        "5 June 2024\n",
        "วันนี้ได้รับความรู้ในเรื่องการสร้างตัวแปร และลองทำโจทย์ที่ครูได้ให้ลองทำ พบว่าถ้าเราอยากได้ค่าindexที่เท่าไหร่ ให้เราเอาวงเล็บก้ามปู[]มาใส่และนำเลขของตัวแปรนั้นมาใส่ก็จะออกมาตามที่เราต้องการ\n",
        "\n",
        "input : การเขียนโค้ดลงในโปรแกรมตามที่โจทย์กำหนด\n",
        "process : การรันโค้ด คือ การทำให้โค้ดประมวลผลออกมาเพื่อที่จะให้แสดงผลในลำดับต่อไป\n",
        "output :การที่ได้รับโค้ดแล้วแสดงผลออกมาตามคำสั่ง"
      ],
      "metadata": {
        "id": "r--1fAQBWmjl"
      }
    },
    {
      "cell_type": "code",
      "source": [
        "string1 = 'Python'\n",
        "print(string1[0])"
      ],
      "metadata": {
        "colab": {
          "base_uri": "https://localhost:8080/"
        },
        "id": "1Cwu3TA2YxLM",
        "outputId": "3c97d48f-33b5-4fa4-a422-618ee23fc645"
      },
      "execution_count": null,
      "outputs": [
        {
          "output_type": "stream",
          "name": "stdout",
          "text": [
            "P\n"
          ]
        }
      ]
    },
    {
      "cell_type": "code",
      "source": [
        "string2 = \"Mint\"\n",
        "print(string2[1])"
      ],
      "metadata": {
        "colab": {
          "base_uri": "https://localhost:8080/"
        },
        "id": "Aic_abTqc89s",
        "outputId": "d7f8e894-eaac-4a64-8e12-d0458092c609"
      },
      "execution_count": null,
      "outputs": [
        {
          "output_type": "stream",
          "name": "stdout",
          "text": [
            "i\n"
          ]
        }
      ]
    },
    {
      "cell_type": "code",
      "source": [
        "side = int(input(\"ความยาวด้าน(ซม.) คือ \"))\n",
        "area = side * side\n",
        "print(\"พื้นที่สี่เหลี่ยมผืนผ้า เท่ากับ\" ,area,\"ตร.ซม\")"
      ],
      "metadata": {
        "colab": {
          "base_uri": "https://localhost:8080/"
        },
        "id": "TP1CKFgpShsv",
        "outputId": "17964bb1-d201-452d-84c7-87b387d4c96d"
      },
      "execution_count": null,
      "outputs": [
        {
          "output_type": "stream",
          "name": "stdout",
          "text": [
            "ความยาวด้าน(ซม.) คือ 5\n",
            "พื้นที่สี่เหลี่ยมผืนผ้า เท่ากับ 25 ตร.ซม\n"
          ]
        }
      ]
    },
    {
      "cell_type": "code",
      "source": [],
      "metadata": {
        "id": "n6IHaJjzbNw0"
      },
      "execution_count": null,
      "outputs": []
    },
    {
      "cell_type": "code",
      "source": [
        "wide = int(input(\"ความกว้าง(ซม.)คือ \"))\n",
        "long = int(input(\"ความยาว (ซม.)คือ\"))\n",
        "area = wide * long\n",
        "print(\"พื้นที่สี่เหลี่ยมผืนผ้า เท่ากับ\",area,\"ตร.ซม.\")"
      ],
      "metadata": {
        "colab": {
          "base_uri": "https://localhost:8080/"
        },
        "id": "8YzSlRJRVBTR",
        "outputId": "6b72cdf1-a9ee-4f2c-d37c-d0cde959102d"
      },
      "execution_count": null,
      "outputs": [
        {
          "output_type": "stream",
          "name": "stdout",
          "text": [
            "ความกว้าง(ซม.)คือ 5\n",
            "ความยาว (ซม.)คือ10\n",
            "พื้นที่สี่เหลี่ยมผืนผ้า เท่ากับ 50 ตร.ซม.\n"
          ]
        }
      ]
    },
    {
      "cell_type": "code",
      "source": [
        "s = int(input(\"ระยะทาง (เมตร)คือ\"))\n",
        "t = int(input(\"เวลา(วินาที) คือ\"))\n",
        "v = s/t\n",
        "print(\"ความเร็ว เท่ากับ\",v,\"m/s\")"
      ],
      "metadata": {
        "colab": {
          "base_uri": "https://localhost:8080/"
        },
        "id": "S2tmj1IFW2oP",
        "outputId": "aea0f703-51c8-4f9b-eb6e-29ee33efe95b"
      },
      "execution_count": null,
      "outputs": [
        {
          "output_type": "stream",
          "name": "stdout",
          "text": [
            "ระยะทาง (เมตร)คือ20\n",
            "เวลา(วินาที) คือ2\n",
            "ความเร็ว เท่ากับ 10.0 m/s\n"
          ]
        }
      ]
    },
    {
      "cell_type": "code",
      "source": [
        "print(\"โปรแกรมคำนวณค่าดัชนีมวลกาย by N'Mint\")\n",
        "name = input(\"กรุณากรอกชื่อผู้เข้าใช้งาน\")\n",
        "print(\"Hello ยินดีต้อนรับครับ\",name,)\n",
        "weight = float(input(\"น้ำหนัก (กิโลกรัม)คือ\"))\n",
        "height = float(input(\"ส่วนสูง (เมตร)คือ\"))\n",
        "BMI = weight/height**2\n",
        "print(\"ค่าดัชนีมวลกาย เท่ากับ\",BMI,)"
      ],
      "metadata": {
        "colab": {
          "base_uri": "https://localhost:8080/"
        },
        "id": "9-i3io6JYY5v",
        "outputId": "46124469-3af1-419d-820d-17805767154a"
      },
      "execution_count": null,
      "outputs": [
        {
          "output_type": "stream",
          "name": "stdout",
          "text": [
            "โปรแกรมคำนวณค่าดัชนีมวลกาย by N'Mint\n",
            "กรุณากรอกชื่อผู้เข้าใช้งานแพร\n",
            "Hello ยินดีต้อนรับครับ แพร\n",
            "น้ำหนัก (กิโลกรัม)คือ45\n",
            "ส่วนสูง (เมตร)คือ1.6\n",
            "ค่าดัชนีมวลกาย เท่ากับ 17.578124999999996\n"
          ]
        }
      ]
    },
    {
      "cell_type": "markdown",
      "source": [
        "01/07/67"
      ],
      "metadata": {
        "id": "0A9aDbFMbsZL"
      }
    }
  ]
}