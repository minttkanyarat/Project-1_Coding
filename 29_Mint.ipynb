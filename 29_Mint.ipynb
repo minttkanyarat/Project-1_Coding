{
  "nbformat": 4,
  "nbformat_minor": 0,
  "metadata": {
    "colab": {
      "provenance": [],
      "authorship_tag": "ABX9TyM0/2C8tnHKT7vdo9LQxAP3",
      "include_colab_link": true
    },
    "kernelspec": {
      "name": "python3",
      "display_name": "Python 3"
    },
    "language_info": {
      "name": "python"
    }
  },
  "cells": [
    {
      "cell_type": "markdown",
      "metadata": {
        "id": "view-in-github",
        "colab_type": "text"
      },
      "source": [
        "<a href=\"https://colab.research.google.com/github/minttkanyarat/Project-1_Coding/blob/main/29_Mint.ipynb\" target=\"_parent\"><img src=\"https://colab.research.google.com/assets/colab-badge.svg\" alt=\"Open In Colab\"/></a>"
      ]
    },
    {
      "cell_type": "markdown",
      "source": [
        "เลขที่ 29  มิ้นท์ กัญญารัตน์ จันทร์แดง\n",
        "No.29 Mint Kanyarat Chandang:"
      ],
      "metadata": {
        "id": "Qw2u6IU8cUWO"
      }
    },
    {
      "cell_type": "code",
      "source": [
        "from google.colab import drive\n",
        "drive.mount('/content/drive')"
      ],
      "metadata": {
        "id": "GS1F8Ft1Gy5H"
      },
      "execution_count": null,
      "outputs": []
    },
    {
      "cell_type": "markdown",
      "source": [],
      "metadata": {
        "id": "USh6mxFxCPHX"
      }
    },
    {
      "cell_type": "code",
      "source": [
        "print('Hello i am mint nice to meet you')"
      ],
      "metadata": {
        "colab": {
          "base_uri": "https://localhost:8080/"
        },
        "id": "gzcEHXGbCPw3",
        "outputId": "7b9196c1-83df-4d16-8d56-636f962e3fe2"
      },
      "execution_count": null,
      "outputs": [
        {
          "output_type": "stream",
          "name": "stdout",
          "text": [
            "Hello i am mint nice to meet you\n"
          ]
        }
      ]
    },
    {
      "cell_type": "code",
      "source": [
        "a = 5\n",
        "print(\"ฉันได้กำไร \", a, \" %\")"
      ],
      "metadata": {
        "colab": {
          "base_uri": "https://localhost:8080/"
        },
        "id": "C9Ji3W-zFm1f",
        "outputId": "3f36ecf1-3546-416d-a207-d7a8b1dab747"
      },
      "execution_count": null,
      "outputs": [
        {
          "output_type": "stream",
          "name": "stdout",
          "text": [
            "ฉันได้กำไร  5  %\n"
          ]
        }
      ]
    },
    {
      "cell_type": "markdown",
      "source": [
        "29 May 2024\n",
        "วันนี้ได้เรียนรู้ในเรื่องตัวแปรค่ะ ว่าสามารถใช้ได้ หรือ ไม่ได้ เช่น no9 ไม่สามารถใช้ได้ เนื่องจากไม่สามารถเป็นตัวเลขได้  \n",
        "และอีก1เรื่องคือตัวแปรจะต้องเป็นภาษาอังกฤษ และจะต้องใช้ในการเก็บค่าได้ค่ะ"
      ],
      "metadata": {
        "id": "Ww_RafcXZUo7"
      }
    },
    {
      "cell_type": "code",
      "source": [
        "a = 2\n",
        "b = 1.5\n",
        "c =\"Mint\"\n",
        "\n",
        "type(a)\n",
        "\n",
        "print(\"ตัวแปรที่ฉันคิด คือ \")"
      ],
      "metadata": {
        "colab": {
          "base_uri": "https://localhost:8080/"
        },
        "id": "2kUr3u2IY1FV",
        "outputId": "5c928434-402d-409f-8f59-1593cfd2aa91"
      },
      "execution_count": null,
      "outputs": [
        {
          "output_type": "stream",
          "name": "stdout",
          "text": [
            "ตัวแปรที่ฉันคิด คือ \n"
          ]
        }
      ]
    },
    {
      "cell_type": "code",
      "source": [
        "numeric1 = 5\n",
        "print(numeric1)\n",
        "type(numeric1)"
      ],
      "metadata": {
        "colab": {
          "base_uri": "https://localhost:8080/"
        },
        "id": "RgAzW-kbknT0",
        "outputId": "3ecc0af2-32cd-4074-80e0-ebf6e58c9dc9"
      },
      "execution_count": null,
      "outputs": [
        {
          "output_type": "stream",
          "name": "stdout",
          "text": [
            "5\n"
          ]
        },
        {
          "output_type": "execute_result",
          "data": {
            "text/plain": [
              "int"
            ]
          },
          "metadata": {},
          "execution_count": 30
        }
      ]
    },
    {
      "cell_type": "markdown",
      "source": [
        "5 June 2024\n",
        "วันนี้ได้รับความรู้ในเรื่องการสร้างตัวแปร และลองทำโจทย์ที่ครูได้ให้ลองทำ พบว่าถ้าเราอยากได้ค่าindexที่เท่าไหร่ ให้เราเอาวงเล็บก้ามปู[]มาใส่และนำเลขของตัวแปรนั้นมาใส่ก็จะออกมาตามที่เราต้องการ\n",
        "\n",
        "input : การเขียนโค้ดลงในโปรแกรมตามที่โจทย์กำหนด\n",
        "process : การรันโค้ด คือ การทำให้โค้ดประมวลผลออกมาเพื่อที่จะให้แสดงผลในลำดับต่อไป\n",
        "output :การที่ได้รับโค้ดแล้วแสดงผลออกมาตามคำสั่ง"
      ],
      "metadata": {
        "id": "r--1fAQBWmjl"
      }
    },
    {
      "cell_type": "code",
      "source": [
        "string1 = 'Python'\n",
        "print(string1[0])"
      ],
      "metadata": {
        "colab": {
          "base_uri": "https://localhost:8080/"
        },
        "id": "1Cwu3TA2YxLM",
        "outputId": "4ff29ab8-d800-4420-88ff-393923c681c3"
      },
      "execution_count": null,
      "outputs": [
        {
          "output_type": "stream",
          "name": "stdout",
          "text": [
            "P\n"
          ]
        }
      ]
    },
    {
      "cell_type": "code",
      "source": [
        "string2 = \"Mint\"\n",
        "print(string2[1])"
      ],
      "metadata": {
        "colab": {
          "base_uri": "https://localhost:8080/"
        },
        "id": "Aic_abTqc89s",
        "outputId": "8eb55ec0-0ecd-4bc7-b4cf-c959b8255e05"
      },
      "execution_count": null,
      "outputs": [
        {
          "output_type": "stream",
          "name": "stdout",
          "text": [
            "i\n"
          ]
        }
      ]
    },
    {
      "cell_type": "code",
      "source": [
        "side = int(input(\"ความยาวด้าน(ซม.) คือ \"))\n",
        "area = side * side\n",
        "print(\"พื้นที่สี่เหลี่ยมผืนผ้า เท่ากับ\" ,area,\"ตร.ซม\")"
      ],
      "metadata": {
        "id": "TP1CKFgpShsv",
        "colab": {
          "base_uri": "https://localhost:8080/"
        },
        "outputId": "3b7a90d1-342a-4b11-b3bf-c992e7c95df7"
      },
      "execution_count": null,
      "outputs": [
        {
          "output_type": "stream",
          "name": "stdout",
          "text": [
            "ความยาวด้าน(ซม.) คือ 50\n",
            "พื้นที่สี่เหลี่ยมผืนผ้า เท่ากับ 2500 ตร.ซม\n"
          ]
        }
      ]
    },
    {
      "cell_type": "code",
      "source": [],
      "metadata": {
        "id": "n6IHaJjzbNw0"
      },
      "execution_count": null,
      "outputs": []
    },
    {
      "cell_type": "code",
      "source": [
        "wide = int(input(\"ความกว้าง(ซม.)คือ \"))\n",
        "long = int(input(\"ความยาว (ซม.)คือ\"))\n",
        "area = wide * long\n",
        "print(\"พื้นที่สี่เหลี่ยมผืนผ้า เท่ากับ\",area,\"ตร.ซม.\")"
      ],
      "metadata": {
        "id": "8YzSlRJRVBTR",
        "colab": {
          "base_uri": "https://localhost:8080/"
        },
        "outputId": "c22a983d-58a4-47cf-ede8-3fb1aa582523"
      },
      "execution_count": null,
      "outputs": [
        {
          "name": "stdout",
          "output_type": "stream",
          "text": [
            "ความกว้าง(ซม.)คือ 80\n"
          ]
        }
      ]
    },
    {
      "cell_type": "code",
      "source": [
        "s = int(input(\"ระยะทาง (เมตร)คือ\"))\n",
        "t = int(input(\"เวลา(วินาที) คือ\"))\n",
        "v = s/t\n",
        "print(\"ความเร็ว เท่ากับ\",v,\"m/s\")"
      ],
      "metadata": {
        "id": "S2tmj1IFW2oP"
      },
      "execution_count": null,
      "outputs": []
    },
    {
      "cell_type": "code",
      "source": [
        "print(\"โปรแกรมคำนวณค่าดัชนีมวลกาย by N'Mint\")\n",
        "name = input(\"กรุณากรอกชื่อผู้เข้าใช้งาน\")\n",
        "print(\"Hello ยินดีต้อนรับครับ\",name,)\n",
        "weight = float(input(\"น้ำหนัก (กิโลกรัม)คือ\"))\n",
        "height = float(input(\"ส่วนสูง (เมตร)คือ\"))\n",
        "BMI = weight/height**2\n",
        "print(\"ค่าดัชนีมวลกาย เท่ากับ\",BMI,)"
      ],
      "metadata": {
        "id": "9-i3io6JYY5v"
      },
      "execution_count": null,
      "outputs": []
    },
    {
      "cell_type": "markdown",
      "source": [
        "01/07/67"
      ],
      "metadata": {
        "id": "0A9aDbFMbsZL"
      }
    },
    {
      "cell_type": "markdown",
      "source": [
        "น.ส.กัญญารัตน์ จันทร์แดง เลขที่ 29\n"
      ],
      "metadata": {
        "id": "JwkLkzcc9f5n"
      }
    },
    {
      "cell_type": "markdown",
      "source": [
        "โจทย์เขียนโปรแกรมด้วย if-else ที่เกี่ยวข้องกับคอมพิวเตอร์\n",
        "4.\tตรวจสอบรุ่นระบบปฏิบัติการ:\n",
        "o\tรับชื่อระบบปฏิบัติการ ถ้าเป็น Windows 10 ให้แสดงว่า \"ระบบปฏิบัติการใหม่\" มิฉะนั้นแสดงว่า \"ระบบปฏิบัติการเก่า\"\n"
      ],
      "metadata": {
        "id": "2XNmiUVy7R4x"
      }
    },
    {
      "cell_type": "code",
      "source": [
        "version = input(\"กรุณากรอกชื่อระบบปฏิบัติการ: \")\n",
        "if version == \"Windows 10\" :\n",
        "  print(\"ระบบปฏิบัติการใหม่\")\n",
        "else :\n",
        "  print(\"ระบบปฏิบัติการเก่า\")\n"
      ],
      "metadata": {
        "id": "KCFMGhh19wtm"
      },
      "execution_count": null,
      "outputs": []
    },
    {
      "cell_type": "code",
      "source": [
        "def calculate_electricity_bill(units):\n",
        "    total_cost = 0.0  # เริ่มต้นตัวแปร total_cost ไว้ที่ 0 บาท\n",
        "\n",
        "    # คำนวณตามอัตราค่าไฟฟ้าขั้นบันได (เริ่มจากยูนิตสูงไปต่ำ)\n",
        "    if units > 400:\n",
        "        total_cost += (units - 400) * 4.4217\n",
        "        units = 400  #\n",
        "    if units > 150:\n",
        "        total_cost += (units - 150) * 4.2218\n",
        "        units = 150\n",
        "    if units > 100:\n",
        "        total_cost += (units - 100) * 3.7171\n",
        "        units = 100\n",
        "    if units > 35:\n",
        "        total_cost += (units - 35) * 3.6237\n",
        "        units = 35\n",
        "    if units > 25:\n",
        "        total_cost += (units - 25) * 3.2405\n",
        "        units = 25\n",
        "    if units > 15:\n",
        "        total_cost += (units - 15) * 2.9882\n",
        "        units = 15\n",
        "    if units > 0:\n",
        "        total_cost += units * 2.3488\n",
        "\n",
        "    # คำนวณค่า Ft (ค่าเชื้อเพลิงแปรผัน)\n",
        "    ft_rate = 0.9119\n",
        "    ft_cost = units * ft_rate  # ค่า Ft คำนวณตามหน่วยที่ใช้\n",
        "    total_cost += ft_cost\n",
        "\n",
        "    # คำนวณค่าบริการรายเดือน (Service Charge)\n",
        "    service_charge = 38.22\n",
        "    total_cost += service_charge\n",
        "\n",
        "    # คำนวณภาษีมูลค่าเพิ่ม (VAT) 7%\n",
        "    vat = total_cost * 0.07\n",
        "    total_cost += vat\n",
        "\n",
        "    return total_cost\n",
        "\n",
        "\n",
        "print(\"สวัสดีค่ะ! ดิฉัน Kanyarat  Electricity bill ยินดีให้บริการคำนวณค่าไฟฟ้าค่ะ!\")\n",
        "print(\"โปรดใส่จำนวนยูนิตที่ใช้ภายใน 1 เดือน เพื่อคำนวณค่าไฟฟ้า\")\n",
        "\n",
        "# รับค่าจำนวนหน่วยไฟฟ้าจากผู้ใช้\n",
        "units = float(input(\"กรุณาใส่จำนวนหน่วยไฟฟ้าที่ใช้ใน 1 เดือน: \"))\n",
        "\n",
        "if units < 0:\n",
        "    print(\"กรุณาใส่ค่าจำนวนหน่วยที่ถูกต้อง (0 ขึ้นไป)\")\n",
        "else:\n",
        "    total_bill = calculate_electricity_bill(units)\n",
        "    print(f\"ค่าไฟฟ้าทั้งหมดที่ต้องชำระ: {total_bill:.2f} บาท\")\n"
      ],
      "metadata": {
        "colab": {
          "base_uri": "https://localhost:8080/"
        },
        "id": "2avYdJ7xA_MS",
        "outputId": "74314db0-a34b-44d9-9bd2-f5a0c9c9a2b6"
      },
      "execution_count": null,
      "outputs": [
        {
          "output_type": "stream",
          "name": "stdout",
          "text": [
            "สวัสดีค่ะ! ดิฉัน Kanyarat  Electricity bill ยินดีให้บริการคำนวณค่าไฟฟ้าค่ะ!\n",
            "โปรดใส่จำนวนยูนิตที่ใช้ภายใน 1 เดือน เพื่อคำนวณค่าไฟฟ้า\n",
            "กรุณาใส่จำนวนหน่วยไฟฟ้าที่ใช้ใน 1 เดือน: 345\n",
            "ค่าไฟฟ้าทั้งหมดที่ต้องชำระ: 1491.65 บาท\n"
          ]
        }
      ]
    }
  ]
}